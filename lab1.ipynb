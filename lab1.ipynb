{
 "cells": [
  {
   "cell_type": "code",
   "execution_count": 16,
   "metadata": {},
   "outputs": [
    {
     "data": {
      "text/plain": [
       "{'arr1': array([ 1,  3,  9, 12, 18]),\n",
       " 'arr2': array([[1, 5, 2, 0],\n",
       "        [3, 6, 4, 7]]),\n",
       " 'arr3': array([['7', '6'],\n",
       "        ['5', '4'],\n",
       "        ['3', '2']], dtype='<U1'),\n",
       " 'arr4': array([[11, 52, 20, 50],\n",
       "        [34, 61, 43, 17]])}"
      ]
     },
     "execution_count": 16,
     "metadata": {},
     "output_type": "execute_result"
    }
   ],
   "source": [
    "'''  Question 1: Create an ndarray using the following data. Write the code and outputs.\n",
    " Data1 = 1 3 9 12 18, Data2 = 1 5 2 0  ,  Data3 = '7' '6' ,  Data4 = 11 52 20 50\n",
    "                              3 6 4 7             '5' '4'            34 61 43 17\n",
    "                                                  '3' '2'\n",
    "\n",
    "'''\n",
    "\n",
    "import numpy as np\n",
    "\n",
    "d1 = [1, 3, 9, 12, 18]\n",
    "d2 = [[1, 5, 2, 0],[3, 6, 4, 7]]\n",
    "d3 = [['7', '6'], ['5', '4'], ['3', '2']]\n",
    "d4 = [[11, 52, 20, 50], [34, 61, 43, 17]]\n",
    "\n",
    "dataset = [d1, d2, d3, d4]\n",
    "\n",
    "def create_ndarray(data):\n",
    "  return np.array(data)\n",
    "  \n",
    "arrays = {}\n",
    "for i, data in enumerate(dataset, start=1):\n",
    "    arrays[f\"arr{i}\"] = create_ndarray(data)\n",
    "\n",
    "arrays\n"
   ]
  },
  {
   "cell_type": "code",
   "execution_count": 17,
   "metadata": {},
   "outputs": [
    {
     "data": {
      "text/plain": [
       "array([ 1,  3,  9, 12, 18])"
      ]
     },
     "execution_count": 17,
     "metadata": {},
     "output_type": "execute_result"
    }
   ],
   "source": [
    "arrays['arr1']"
   ]
  },
  {
   "cell_type": "code",
   "execution_count": 18,
   "metadata": {},
   "outputs": [
    {
     "data": {
      "text/plain": [
       "{'arr1': array([ 2,  6, 18, 24, 36], dtype=int64),\n",
       " 'arr2': array([[1, 5, 2, 0],\n",
       "        [3, 6, 4, 7]], dtype=int64),\n",
       " 'arr3': array([[7, 6],\n",
       "        [5, 4],\n",
       "        [3, 2]], dtype=int64),\n",
       " 'arr4': array([[11, 52, 20, 50],\n",
       "        [34, 61, 43, 17]], dtype=int64)}"
      ]
     },
     "execution_count": 18,
     "metadata": {},
     "output_type": "execute_result"
    }
   ],
   "source": [
    "''' Question 2: Add Data1 in Data1. Multiply Data1 by 10. Convert Data1, Data2, \n",
    "        Data3, and Data4 datatypes to integer. \n",
    "                                                ''' \n",
    "\n",
    "arrays['arr1'] = arrays['arr1']  + arrays['arr1'] \n",
    "arr1 = arrays['arr1']  * 10\n",
    "\n",
    "def change_to_int(arr):\n",
    "    return arr.astype(np.int64)\n",
    "\n",
    "for key in arrays:\n",
    "    arrays[key] = change_to_int(arrays[key])\n",
    "\n",
    "arrays\n"
   ]
  },
  {
   "cell_type": "code",
   "execution_count": 19,
   "metadata": {},
   "outputs": [
    {
     "name": "stdout",
     "output_type": "stream",
     "text": [
      "Zero Array: [[0. 0. 0. 0. 0.]\n",
      " [0. 0. 0. 0. 0.]\n",
      " [0. 0. 0. 0. 0.]], \n",
      "\n",
      " Ones Array: [[1. 1. 1. 1. 1. 1. 1. 1.]\n",
      " [1. 1. 1. 1. 1. 1. 1. 1.]], \n",
      "\n",
      " Random Array: [[84  3 99]\n",
      " [ 1 85 40]\n",
      " [81 48  5]\n",
      " [51 63 44]\n",
      " [42 16 41]\n",
      " [36 18 52]]\n"
     ]
    }
   ],
   "source": [
    "''' \n",
    "    Question 3: Create:\n",
    "        A 3x5 array of 0s\n",
    "        A 2x8 array of 1s\n",
    "        A 6x3 array of integer random numbers.\n",
    "'''\n",
    "\n",
    "def create_nd_zero_array(m, n):\n",
    "    return np.zeros((m,n))\n",
    "\n",
    "def create_nd_ones_array(m, n):\n",
    "    return np.ones((m,n))\n",
    "\n",
    "def creat_nd_random_array(low, high, m, n):\n",
    "    return np.random.randint(low, high, (m, n))\n",
    "\n",
    "zeros = create_nd_zero_array(3, 5)\n",
    "ones = create_nd_ones_array(2, 8)\n",
    "ran = creat_nd_random_array(0, 100, 6, 3)\n",
    "\n",
    "print(f'Zero Array: {zeros}, \\n\\n Ones Array: {ones}, \\n\\n Random Array: {ran}')\n"
   ]
  },
  {
   "cell_type": "code",
   "execution_count": 20,
   "metadata": {},
   "outputs": [
    {
     "name": "stdout",
     "output_type": "stream",
     "text": [
      "Data1 with squared bold items: [  2   6 324 576  36]\n",
      "-------------------------------\n",
      "Data2 with squared bold items: [[ 1 25  2  0]\n",
      " [ 3  6 16  7]]\n"
     ]
    }
   ],
   "source": [
    "''' \n",
    "    Question 4: Square the bold elements of Data1 and Data2. Hint: Use indexing and slicing.\n",
    "'''\n",
    "\n",
    "def square_an_index(arr, ind):\n",
    "    ''' takes single index as ind=a and for ndarray ind=(a,b) '''\n",
    "    if ind is not tuple:\n",
    "        row = ind[0]\n",
    "        col = ind[1]\n",
    "        arr[row][col] = arr[row][col] ** 2\n",
    "        return arr\n",
    "    else:\n",
    "        num = arr[ind]\n",
    "        arr[ind] = num ** 2\n",
    "        return arr\n",
    "\n",
    "def square_a_slice(arr, start, end):\n",
    "    ''' Works for 1D arrays only.\n",
    "        Squares the elements in the array from index `start` to `end - 1`. '''\n",
    "    for i in range(start, end):\n",
    "        arr[i] = arr[i] ** 2\n",
    "    return arr\n",
    "\n",
    "# bolds are 9 and 12 in data 1 and 5 and 4 in data 2\n",
    "print('Data1 with squared bold items:', square_a_slice(arrays['arr1'], 2, 4))\n",
    "print('-------------------------------')\n",
    "arrays['arr2'] = square_an_index(arrays['arr2'], (0,1))\n",
    "print('Data2 with squared bold items:', square_an_index(arrays['arr2'], (1,2)))\n"
   ]
  },
  {
   "cell_type": "code",
   "execution_count": 21,
   "metadata": {},
   "outputs": [
    {
     "data": {
      "text/plain": [
       "array([['ML', '0', '0'],\n",
       "       ['0', 'AI', '0'],\n",
       "       ['0', 'ML', 'AI']], dtype='<U3')"
      ]
     },
     "execution_count": 21,
     "metadata": {},
     "output_type": "execute_result"
    }
   ],
   "source": [
    "''' Question 5: Consider an array Subjects =\n",
    "                    ML OS CCN\n",
    "                    OS AI MP\n",
    "                    CCN ML AI\n",
    "Set all courses to 0 except ML and AI. Hint: use Boolean indexing.'''\n",
    "\n",
    "\n",
    "subjects = np.array([['ML', 'OS', 'CCN'], ['OS', 'AI', 'MP'], ['CCN', 'ML', 'AI']])\n",
    "\n",
    "mask = ~(np.isin(subjects, ['ML', 'AI']))\n",
    "subjects[mask] = 0\n",
    "subjects\n"
   ]
  },
  {
   "cell_type": "code",
   "execution_count": 22,
   "metadata": {},
   "outputs": [
    {
     "data": {
      "text/plain": [
       "{'arr1': array([  2,   6, 324, 576,  36], dtype=int64),\n",
       " 'arr2': array([[ 1,  3],\n",
       "        [25,  6],\n",
       "        [ 2, 16],\n",
       "        [ 0,  7]], dtype=int64),\n",
       " 'arr3': array([[7, 5, 3],\n",
       "        [6, 4, 2]], dtype=int64),\n",
       " 'arr4': array([[11, 34],\n",
       "        [52, 61],\n",
       "        [20, 43],\n",
       "        [50, 17]], dtype=int64)}"
      ]
     },
     "execution_count": 22,
     "metadata": {},
     "output_type": "execute_result"
    }
   ],
   "source": [
    "''' Question 6: Transpose data2 data3 and data4 arrays using appropriate functions '''\n",
    "\n",
    "arrays['arr2'] = arrays['arr2'].T\n",
    "arrays['arr3'] = arrays['arr3'].T\n",
    "arrays['arr4'] = arrays['arr4'].T\n",
    "\n",
    "arrays\n"
   ]
  },
  {
   "cell_type": "code",
   "execution_count": 23,
   "metadata": {},
   "outputs": [
    {
     "name": "stdout",
     "output_type": "stream",
     "text": [
      "vcat:  [[ 1  3]\n",
      " [25  6]\n",
      " [ 2 16]\n",
      " [ 0  7]\n",
      " [11 34]\n",
      " [52 61]\n",
      " [20 43]\n",
      " [50 17]]\n",
      "-------------\n",
      "hcat:  [[ 1  3 11 34]\n",
      " [25  6 52 61]\n",
      " [ 2 16 20 43]\n",
      " [ 0  7 50 17]]\n"
     ]
    }
   ],
   "source": [
    "''' Question 7: Concatenate data2 and data4 using vstack and hstack '''\n",
    "cat1 = np.vstack((arrays['arr2'], arrays['arr4']))\n",
    "cat2 = np.hstack((arrays['arr2'], arrays['arr4']))\n",
    "print(\"vcat: \", cat1)\n",
    "print('-------------')\n",
    "print(\"hcat: \",cat2)"
   ]
  },
  {
   "cell_type": "code",
   "execution_count": 24,
   "metadata": {},
   "outputs": [
    {
     "data": {
      "text/plain": [
       "array([[-6., -5.],\n",
       "       [18., -2.],\n",
       "       [-5.,  8.],\n",
       "       [-7., -1.]])"
      ]
     },
     "execution_count": 24,
     "metadata": {},
     "output_type": "execute_result"
    }
   ],
   "source": [
    "''' Question 8: Demean each column of data2 '''\n",
    "\n",
    "column_means = np.mean(arrays['arr2'], axis=0)\n",
    "arrays['arr2'] = arrays['arr2'] - column_means\n",
    "\n",
    "arrays['arr2']"
   ]
  },
  {
   "cell_type": "code",
   "execution_count": 25,
   "metadata": {},
   "outputs": [
    {
     "data": {
      "text/plain": [
       "array([[-6., -5.],\n",
       "       [18., -2.],\n",
       "       [-5.,  8.],\n",
       "       [-7., -1.]])"
      ]
     },
     "execution_count": 25,
     "metadata": {},
     "output_type": "execute_result"
    }
   ],
   "source": [
    "''' Question 9: Convert Data2 shape into 4x2'''\n",
    "arrays['arr2'].reshape(4,2)"
   ]
  },
  {
   "cell_type": "code",
   "execution_count": 26,
   "metadata": {},
   "outputs": [
    {
     "name": "stdout",
     "output_type": "stream",
     "text": [
      "The maximum adjusted score in ['Subject1', 'Subject2', 'Subject3'] is 35.00.\n",
      "The maximum adjusted score in ['Subject1', 'Subject2', 'Subject3'] is 26.67.\n",
      "The maximum adjusted score in ['Subject1', 'Subject2', 'Subject3'] is 17.50.\n"
     ]
    }
   ],
   "source": [
    "''' Question 10: Consider the table having marks of three students scored in three subjects. Compute the maximum score of each subject. Hint: use max function.\n",
    "\n",
    "Subjects\t            Student1\tStudent2\tStudent3\n",
    "Subject1 (2 Credit Hour)\t60\t        70\t        50\n",
    "Subject2 (3 Credit Hour)\t40\t        60\t        80\n",
    "Subject3 (4 Credit Hour)\t70\t        55\t        65\n",
    "'''\n",
    "\n",
    "scores = np.array([\n",
    "    [60, 70, 50],  \n",
    "    [40, 60, 80],  \n",
    "    [70, 55, 65]   \n",
    "])\n",
    "\n",
    "credit_hours = np.array([2, 3, 4])  \n",
    "\n",
    "gps = scores / credit_hours[:, np.newaxis]  # broadcasted division in NumPy\n",
    "\n",
    "max_adjusted_scores = np.max(gps, axis=1)\n",
    "\n",
    "subj = [\"Subject1\", \"Subject2\", \"Subject3\"]\n",
    "for subject, max_score in zip(subj, max_adjusted_scores):\n",
    "    print(f\"The maximum adjusted score in {subj} is {max_score:.2f}.\")"
   ]
  },
  {
   "cell_type": "code",
   "execution_count": 27,
   "metadata": {},
   "outputs": [
    {
     "name": "stdout",
     "output_type": "stream",
     "text": [
      "Student 1 CGPA: 1.64\n",
      "Student 2 CGPA: 2.02\n",
      "Student 3 CGPA: 2.39\n"
     ]
    }
   ],
   "source": [
    "''' Question 11: Compute the CGPA for all three students using the given formula:\n",
    "CGPA = (∑ (Credit hours of a course × Grade point)) / Total credit hours of the courses '''\n",
    "\n",
    "def get_grade_point(score):\n",
    "    if 94 <= score <= 100:\n",
    "        return 4.0\n",
    "    elif 85 <= score <= 93:\n",
    "        return 3.7\n",
    "    elif 80 <= score <= 84:\n",
    "        return 3.3\n",
    "    elif 75 <= score <= 79:\n",
    "        return 3.0\n",
    "    elif 70 <= score <= 74:\n",
    "        return 2.7\n",
    "    elif 65 <= score <= 69:\n",
    "        return 2.4\n",
    "    elif 60 <= score <= 64:\n",
    "        return 2.0\n",
    "    elif 55 <= score <= 59:\n",
    "        return 1.7\n",
    "    elif 50 <= score <= 54:\n",
    "        return 1.0\n",
    "    else:\n",
    "        return 0.0\n",
    "\n",
    "get_grade_point_vec = np.vectorize(get_grade_point)\n",
    "\n",
    "grade_points = get_grade_point_vec(scores)\n",
    "\n",
    "weighted_scores = credit_hours[:, np.newaxis] * grade_points\n",
    "\n",
    "total_credit_hours = np.sum(credit_hours)\n",
    "cgpa = np.sum(weighted_scores, axis=0) / total_credit_hours\n",
    "\n",
    "for i, gpa in enumerate(cgpa, start=1):\n",
    "    print(f\"Student {i} CGPA: {gpa:.2f}\")\n",
    "\n"
   ]
  },
  {
   "cell_type": "code",
   "execution_count": 30,
   "metadata": {},
   "outputs": [
    {
     "name": "stdout",
     "output_type": "stream",
     "text": [
      "Sorted unique values: [40 50 55 60 65 70 80]\n"
     ]
    }
   ],
   "source": [
    "''' Question 12: Compute the sorted unique values in subjects array '''\n",
    "\n",
    "unique_sorted_values = np.sort(np.unique(scores))\n",
    "print(\"Sorted unique values:\", unique_sorted_values)"
   ]
  },
  {
   "cell_type": "code",
   "execution_count": 31,
   "metadata": {},
   "outputs": [
    {
     "name": "stdout",
     "output_type": "stream",
     "text": [
      "Random 4x4 Matrix:\n",
      "[[0.69911666 0.3736091  0.44710226 0.45994718]\n",
      " [0.72219781 0.91890619 0.69380884 0.76192132]\n",
      " [0.64977705 0.4079913  0.22734881 0.607589  ]\n",
      " [0.8694249  0.38708978 0.73816365 0.31767623]]\n",
      "\n",
      "Dot Product:\n",
      "[[1.03979971 1.5088593  0.98780624 1.22859862]\n",
      " [1.5088593  2.42785307 1.46484492 1.73778471]\n",
      " [0.98780624 1.46484492 1.00951899 1.08369882]\n",
      " [1.22859862 1.73778471 1.08369882 1.55154192]]\n",
      "\n",
      "Inverse of the Matrix:\n",
      "[[-21.40166146  -0.90739791  12.05707854  10.1022711 ]\n",
      " [-32.34432034   2.04630321  15.11538774  13.01203314]\n",
      " [ 27.38084822   0.20192113 -15.39817422 -10.67700508]\n",
      " [ 34.36123127  -0.47922871 -15.63656165 -15.54606105]]\n"
     ]
    }
   ],
   "source": [
    "''' Question 13: Compute the dot product and inverse of 4x4 random matrix using .linalg '''\n",
    "\n",
    "mat = np.random.rand(4, 4)\n",
    "\n",
    "dot_product = np.dot(mat, mat.T)\n",
    "inverse_matrix = np.linalg.inv(mat)\n",
    "\n",
    "print(\"Random 4x4 Matrix:\")\n",
    "print(mat)\n",
    "print(\"\\nDot Product:\")\n",
    "print(dot_product)\n",
    "print(\"\\nInverse of the Matrix:\")\n",
    "print(inverse_matrix)\n"
   ]
  },
  {
   "cell_type": "code",
   "execution_count": 32,
   "metadata": {},
   "outputs": [
    {
     "name": "stdout",
     "output_type": "stream",
     "text": [
      "Arrays have been saved to disk.\n"
     ]
    }
   ],
   "source": [
    "''' Question 14: Store all created arrays on disk '''\n",
    "all_arrays = {\n",
    "    'arr1': arrays['arr1'],\n",
    "    'arr2': arrays['arr2'],\n",
    "    'arr3': arrays['arr3'],\n",
    "    'arr4': arrays['arr4'],\n",
    "    'scores': scores\n",
    "}\n",
    "np.save('all_arrays.npy', all_arrays)\n",
    "\n",
    "print(\"Arrays have been saved to disk.\")"
   ]
  },
  {
   "cell_type": "code",
   "execution_count": null,
   "metadata": {},
   "outputs": [],
   "source": []
  }
 ],
 "metadata": {
  "kernelspec": {
   "display_name": "Python 3",
   "language": "python",
   "name": "python3"
  },
  "language_info": {
   "codemirror_mode": {
    "name": "ipython",
    "version": 3
   },
   "file_extension": ".py",
   "mimetype": "text/x-python",
   "name": "python",
   "nbconvert_exporter": "python",
   "pygments_lexer": "ipython3",
   "version": "3.10.8"
  }
 },
 "nbformat": 4,
 "nbformat_minor": 2
}
