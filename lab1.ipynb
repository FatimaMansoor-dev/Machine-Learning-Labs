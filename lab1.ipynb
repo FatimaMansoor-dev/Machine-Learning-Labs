{
 "cells": [
  {
   "cell_type": "code",
   "execution_count": 66,
   "metadata": {},
   "outputs": [
    {
     "data": {
      "text/plain": [
       "{'arr1': array([ 1,  3,  9, 12, 18]),\n",
       " 'arr2': array([[1, 5, 2, 0],\n",
       "        [3, 6, 4, 7]]),\n",
       " 'arr3': array([['7', '6'],\n",
       "        ['5', '4'],\n",
       "        ['3', '2']], dtype='<U1'),\n",
       " 'arr4': array([[11, 52, 20, 50],\n",
       "        [34, 61, 43, 17]])}"
      ]
     },
     "execution_count": 66,
     "metadata": {},
     "output_type": "execute_result"
    }
   ],
   "source": [
    "'''  Question 1: Create an ndarray using the following data. Write the code and outputs.\n",
    " Data1 = 1 3 9 12 18, Data2 = 1 5 2 0  ,  Data3 = '7' '6' ,  Data4 = 11 52 20 50\n",
    "                              3 6 4 7             '5' '4'            34 61 43 17\n",
    "                                                  '3' '2'\n",
    "\n",
    "'''\n",
    "\n",
    "import numpy as np\n",
    "\n",
    "d1 = [1, 3, 9, 12, 18]\n",
    "d2 = [[1, 5, 2, 0],[3, 6, 4, 7]]\n",
    "d3 = [['7', '6'], ['5', '4'], ['3', '2']]\n",
    "d4 = [[11, 52, 20, 50], [34, 61, 43, 17]]\n",
    "\n",
    "dataset = [d1, d2, d3, d4]\n",
    "\n",
    "def create_ndarray(data):\n",
    "  return np.array(data)\n",
    "  \n",
    "arrays = {}\n",
    "for i, data in enumerate(dataset, start=1):\n",
    "    arrays[f\"arr{i}\"] = create_ndarray(data)\n",
    "\n",
    "arrays\n"
   ]
  },
  {
   "cell_type": "code",
   "execution_count": 67,
   "metadata": {},
   "outputs": [
    {
     "data": {
      "text/plain": [
       "array([ 1,  3,  9, 12, 18])"
      ]
     },
     "execution_count": 67,
     "metadata": {},
     "output_type": "execute_result"
    }
   ],
   "source": [
    "arrays['arr1']"
   ]
  },
  {
   "cell_type": "code",
   "execution_count": 68,
   "metadata": {},
   "outputs": [
    {
     "data": {
      "text/plain": [
       "{'arr1': array([ 2,  6, 18, 24, 36]),\n",
       " 'arr2': array([[1, 5, 2, 0],\n",
       "        [3, 6, 4, 7]]),\n",
       " 'arr3': array([[7, 6],\n",
       "        [5, 4],\n",
       "        [3, 2]]),\n",
       " 'arr4': array([[11, 52, 20, 50],\n",
       "        [34, 61, 43, 17]])}"
      ]
     },
     "execution_count": 68,
     "metadata": {},
     "output_type": "execute_result"
    }
   ],
   "source": [
    "''' Question 2: Add Data1 in Data1. Multiply Data1 by 10. Convert Data1, Data2, \n",
    "        Data3, and Data4 datatypes to integer. \n",
    "                                                ''' \n",
    "\n",
    "arrays['arr1'] = arrays['arr1']  + arrays['arr1'] \n",
    "arr1 = arrays['arr1']  * 10\n",
    "\n",
    "def change_to_int(arr):\n",
    "    return arr.astype(np.int64)\n",
    "\n",
    "for key in arrays:\n",
    "    arrays[key] = change_to_int(arrays[key])\n",
    "\n",
    "arrays\n"
   ]
  },
  {
   "cell_type": "code",
   "execution_count": 69,
   "metadata": {},
   "outputs": [
    {
     "name": "stdout",
     "output_type": "stream",
     "text": [
      "Zero Array: [[0. 0. 0. 0. 0.]\n",
      " [0. 0. 0. 0. 0.]\n",
      " [0. 0. 0. 0. 0.]], \n",
      "\n",
      " Ones Array: [[1. 1. 1. 1. 1. 1. 1. 1.]\n",
      " [1. 1. 1. 1. 1. 1. 1. 1.]], \n",
      "\n",
      " Random Array: [[ 4 71 27]\n",
      " [26 87 66]\n",
      " [54 10  8]\n",
      " [40 91 32]\n",
      " [76 97 83]\n",
      " [ 7 34 47]]\n"
     ]
    }
   ],
   "source": [
    "''' \n",
    "    Question 3: Create:\n",
    "        A 3x5 array of 0s\n",
    "        A 2x8 array of 1s\n",
    "        A 6x3 array of integer random numbers.\n",
    "'''\n",
    "\n",
    "def create_nd_zero_array(m, n):\n",
    "    return np.zeros((m,n))\n",
    "\n",
    "def create_nd_ones_array(m, n):\n",
    "    return np.ones((m,n))\n",
    "\n",
    "def creat_nd_random_array(low, high, m, n):\n",
    "    return np.random.randint(low, high, (m, n))\n",
    "\n",
    "zeros = create_nd_zero_array(3, 5)\n",
    "ones = create_nd_ones_array(2, 8)\n",
    "ran = creat_nd_random_array(0, 100, 6, 3)\n",
    "\n",
    "print(f'Zero Array: {zeros}, \\n\\n Ones Array: {ones}, \\n\\n Random Array: {ran}')\n"
   ]
  },
  {
   "cell_type": "code",
   "execution_count": 70,
   "metadata": {},
   "outputs": [
    {
     "name": "stdout",
     "output_type": "stream",
     "text": [
      "Data1 with squared bold items: [  2   6 324 576  36]\n",
      "-------------------------------\n",
      "Data2 with squared bold items: [[ 1 25  2  0]\n",
      " [ 3  6 16  7]]\n"
     ]
    }
   ],
   "source": [
    "''' \n",
    "    Question 4: Square the bold elements of Data1 and Data2. Hint: Use indexing and slicing.\n",
    "'''\n",
    "\n",
    "def square_an_index(arr, ind):\n",
    "    ''' takes single index as ind=a and for ndarray ind=(a,b) '''\n",
    "    if ind is not tuple:\n",
    "        row = ind[0]\n",
    "        col = ind[1]\n",
    "        arr[row][col] = arr[row][col] ** 2\n",
    "        return arr\n",
    "    else:\n",
    "        num = arr[ind]\n",
    "        arr[ind] = num ** 2\n",
    "        return arr\n",
    "\n",
    "def square_a_slice(arr, start, end):\n",
    "    ''' Works for 1D arrays only.\n",
    "        Squares the elements in the array from index `start` to `end - 1`. '''\n",
    "    for i in range(start, end):\n",
    "        arr[i] = arr[i] ** 2\n",
    "    return arr\n",
    "\n",
    "# bolds are 9 and 12 in data 1 and 5 and 4 in data 2\n",
    "print('Data1 with squared bold items:', square_a_slice(arrays['arr1'], 2, 4))\n",
    "print('-------------------------------')\n",
    "arrays['arr2'] = square_an_index(arrays['arr2'], (0,1))\n",
    "print('Data2 with squared bold items:', square_an_index(arrays['arr2'], (1,2)))\n"
   ]
  },
  {
   "cell_type": "code",
   "execution_count": 71,
   "metadata": {},
   "outputs": [
    {
     "data": {
      "text/plain": [
       "array([['ML', '0', '0'],\n",
       "       ['0', 'AI', '0'],\n",
       "       ['0', 'ML', 'AI']], dtype='<U3')"
      ]
     },
     "execution_count": 71,
     "metadata": {},
     "output_type": "execute_result"
    }
   ],
   "source": [
    "''' Question 5: Consider an array Subjects =\n",
    "                    ML OS CCN\n",
    "                    OS AI MP\n",
    "                    CCN ML AI\n",
    "Set all courses to 0 except ML and AI. Hint: use Boolean indexing.'''\n",
    "\n",
    "\n",
    "subjects = np.array([['ML', 'OS', 'CCN'], ['OS', 'AI', 'MP'], ['CCN', 'ML', 'AI']])\n",
    "\n",
    "mask = ~(np.isin(subjects, ['ML', 'AI']))\n",
    "subjects[mask] = 0\n",
    "subjects\n"
   ]
  },
  {
   "cell_type": "code",
   "execution_count": 72,
   "metadata": {},
   "outputs": [
    {
     "data": {
      "text/plain": [
       "{'arr1': array([  2,   6, 324, 576,  36]),\n",
       " 'arr2': array([[ 1,  3],\n",
       "        [25,  6],\n",
       "        [ 2, 16],\n",
       "        [ 0,  7]]),\n",
       " 'arr3': array([[7, 5, 3],\n",
       "        [6, 4, 2]]),\n",
       " 'arr4': array([[11, 34],\n",
       "        [52, 61],\n",
       "        [20, 43],\n",
       "        [50, 17]])}"
      ]
     },
     "execution_count": 72,
     "metadata": {},
     "output_type": "execute_result"
    }
   ],
   "source": [
    "''' Question 6: Transpose data2 data3 and data4 arrays using appropriate functions '''\n",
    "\n",
    "arrays['arr2'] = arrays['arr2'].T\n",
    "arrays['arr3'] = arrays['arr3'].T\n",
    "arrays['arr4'] = arrays['arr4'].T\n",
    "\n",
    "arrays\n"
   ]
  },
  {
   "cell_type": "code",
   "execution_count": 74,
   "metadata": {},
   "outputs": [
    {
     "name": "stdout",
     "output_type": "stream",
     "text": [
      "vcat:  [[ 1  3]\n",
      " [25  6]\n",
      " [ 2 16]\n",
      " [ 0  7]\n",
      " [11 34]\n",
      " [52 61]\n",
      " [20 43]\n",
      " [50 17]]\n",
      "-------------\n",
      "hcat:  [[ 1  3 11 34]\n",
      " [25  6 52 61]\n",
      " [ 2 16 20 43]\n",
      " [ 0  7 50 17]]\n"
     ]
    }
   ],
   "source": [
    "''' Question 7: Concatenate data2 and data4 using vstack and hstack '''\n",
    "cat1 = np.vstack((arrays['arr2'], arrays['arr4']))\n",
    "cat2 = np.hstack((arrays['arr2'], arrays['arr4']))\n",
    "print(\"vcat: \", cat1)\n",
    "print('-------------')\n",
    "print(\"hcat: \",cat2)"
   ]
  },
  {
   "cell_type": "code",
   "execution_count": null,
   "metadata": {},
   "outputs": [],
   "source": []
  }
 ],
 "metadata": {
  "kernelspec": {
   "display_name": "myenv",
   "language": "python",
   "name": "python3"
  },
  "language_info": {
   "codemirror_mode": {
    "name": "ipython",
    "version": 3
   },
   "file_extension": ".py",
   "mimetype": "text/x-python",
   "name": "python",
   "nbconvert_exporter": "python",
   "pygments_lexer": "ipython3",
   "version": "3.10.8"
  }
 },
 "nbformat": 4,
 "nbformat_minor": 2
}
